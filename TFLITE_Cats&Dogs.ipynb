{
  "nbformat": 4,
  "nbformat_minor": 0,
  "metadata": {
    "colab": {
      "name": "TFLITE-Cats&Dogs.ipynb",
      "provenance": [],
      "authorship_tag": "ABX9TyOKRSAane2bwTF/7f8NOrHh",
      "include_colab_link": true
    },
    "kernelspec": {
      "name": "python3",
      "display_name": "Python 3"
    },
    "accelerator": "GPU"
  },
  "cells": [
    {
      "cell_type": "markdown",
      "metadata": {
        "id": "view-in-github",
        "colab_type": "text"
      },
      "source": [
        "<a href=\"https://colab.research.google.com/github/rainmaker29/Tensorflow-Lite/blob/master/TFLITE_Cats%26Dogs.ipynb\" target=\"_parent\"><img src=\"https://colab.research.google.com/assets/colab-badge.svg\" alt=\"Open In Colab\"/></a>"
      ]
    },
    {
      "cell_type": "code",
      "metadata": {
        "id": "rd8jLhvp7Si0",
        "colab_type": "code",
        "outputId": "021964eb-39f3-4e2e-8b82-a7ed44dda9ef",
        "colab": {
          "base_uri": "https://localhost:8080/",
          "height": 159
        }
      },
      "source": [
        "import os\n",
        "import matplotlib.pyplot as plt\n",
        "import numpy as np\n",
        "\n",
        "import tensorflow as tf\n",
        "import tensorflow_hub as hub\n",
        "\n",
        "print(\"TF version : \",tf.__version__)\n",
        "print(\"Eager Execution : \",tf.executing_eagerly())\n",
        "print(\"Hub version : \",hub.__version__)\n",
        "print(\"GPU is\",\" available \" if tf.test.is_gpu_available() else \" unavailable\")"
      ],
      "execution_count": 0,
      "outputs": [
        {
          "output_type": "stream",
          "text": [
            "TF version :  2.2.0-rc2\n",
            "Eager Execution :  True\n",
            "Hub version :  0.8.0\n",
            "WARNING:tensorflow:From <ipython-input-1-0e15e8030bd9>:11: is_gpu_available (from tensorflow.python.framework.test_util) is deprecated and will be removed in a future version.\n",
            "Instructions for updating:\n",
            "Use `tf.config.list_physical_devices('GPU')` instead.\n",
            "GPU is  available \n"
          ],
          "name": "stdout"
        }
      ]
    },
    {
      "cell_type": "code",
      "metadata": {
        "cellView": "both",
        "colab_type": "code",
        "id": "FlsEcKVeuCnf",
        "outputId": "1aa529f8-a187-4d77-898c-c2359fdad98c",
        "colab": {
          "base_uri": "https://localhost:8080/",
          "height": 54
        }
      },
      "source": [
        "module_selection = (\"inception_v3\", 299, 2048) #@param [\"(\\\"mobilenet_v2\\\", 224, 1280)\", \"(\\\"inception_v3\\\", 299, 2048)\"] {type:\"raw\", allow-input: true}\n",
        "handle_base, pixels, FV_SIZE = module_selection\n",
        "MODULE_HANDLE =\"https://tfhub.dev/google/tf2-preview/{}/feature_vector/4\".format(handle_base)\n",
        "IMAGE_SIZE = (pixels, pixels)\n",
        "print(\"Using {} with input size {} and output dimension {}\".format(\n",
        "  MODULE_HANDLE, IMAGE_SIZE, FV_SIZE))"
      ],
      "execution_count": 0,
      "outputs": [
        {
          "output_type": "stream",
          "text": [
            "Using https://tfhub.dev/google/tf2-preview/inception_v3/feature_vector/4 with input size (299, 299) and output dimension 2048\n"
          ],
          "name": "stdout"
        }
      ]
    },
    {
      "cell_type": "code",
      "metadata": {
        "id": "4W1mXUwO-KlN",
        "colab_type": "code",
        "colab": {}
      },
      "source": [
        "import tensorflow_datasets as tfds\n",
        "tfds.disable_progress_bar()"
      ],
      "execution_count": 0,
      "outputs": []
    },
    {
      "cell_type": "code",
      "metadata": {
        "id": "nSXrmNWC-pti",
        "colab_type": "code",
        "colab": {}
      },
      "source": [
        "(train_examples ,validation_examples,test_examples) , info = tfds.load(\n",
        "    'cats_vs_dogs',\n",
        "    split=['train[80%:]','train[80%:90%]','train[90%:]'],\n",
        "    with_info = True,\n",
        "    as_supervised=True,)\n",
        "\n",
        "\n",
        "num_examples = info.splits['train'].num_examples\n",
        "num_classes = info.features['label'].num_classes"
      ],
      "execution_count": 0,
      "outputs": []
    },
    {
      "cell_type": "code",
      "metadata": {
        "id": "tW2rye3wAMqK",
        "colab_type": "code",
        "colab": {}
      },
      "source": [
        "#Resizing images\n",
        "def format_image(image,label):\n",
        "  image = tf.image.resize(image,IMAGE_SIZE)/255.0\n",
        "  return image,label"
      ],
      "execution_count": 0,
      "outputs": []
    },
    {
      "cell_type": "code",
      "metadata": {
        "id": "AhqHvs3hA7go",
        "colab_type": "code",
        "colab": {}
      },
      "source": [
        "BATCH_SIZE = 32\n"
      ],
      "execution_count": 0,
      "outputs": []
    },
    {
      "cell_type": "code",
      "metadata": {
        "id": "CAL4P8zfA-hH",
        "colab_type": "code",
        "colab": {}
      },
      "source": [
        "train_batches = train_examples.shuffle(num_examples // 4).map(format_image).batch(BATCH_SIZE).prefetch(1)\n",
        "validation_batches = validation_examples.map(format_image).batch(BATCH_SIZE).prefetch(1)\n",
        "test_batches = test_examples.map(format_image).batch(1)"
      ],
      "execution_count": 0,
      "outputs": []
    },
    {
      "cell_type": "code",
      "metadata": {
        "id": "5Lr63zOgBGl8",
        "colab_type": "code",
        "outputId": "7576add0-f00a-4d84-8db9-49b16fbdc808",
        "colab": {
          "base_uri": "https://localhost:8080/",
          "height": 34
        }
      },
      "source": [
        "for image_batch,label_batch in train_batches.take(1):\n",
        "  pass\n",
        "\n",
        "image_batch.shape"
      ],
      "execution_count": 0,
      "outputs": [
        {
          "output_type": "execute_result",
          "data": {
            "text/plain": [
              "TensorShape([32, 299, 299, 3])"
            ]
          },
          "metadata": {
            "tags": []
          },
          "execution_count": 12
        }
      ]
    },
    {
      "cell_type": "code",
      "metadata": {
        "cellView": "both",
        "colab_type": "code",
        "id": "RaJW3XrPyFiF",
        "colab": {}
      },
      "source": [
        "do_fine_tuning = False #@param {type:\"boolean\"}"
      ],
      "execution_count": 0,
      "outputs": []
    },
    {
      "cell_type": "code",
      "metadata": {
        "id": "meMTZD69BclL",
        "colab_type": "code",
        "colab": {}
      },
      "source": [
        "feature_extractor = hub.KerasLayer(MODULE_HANDLE,\n",
        "                                   input_shape = IMAGE_SIZE+(3,),\n",
        "                                   output_shape=[FV_SIZE],\n",
        "                                   trainable=do_fine_tuning)"
      ],
      "execution_count": 0,
      "outputs": []
    },
    {
      "cell_type": "code",
      "metadata": {
        "id": "5H8W0VRGBtqe",
        "colab_type": "code",
        "outputId": "788ed501-cfc0-4e45-a757-623bb4df5aea",
        "colab": {
          "base_uri": "https://localhost:8080/",
          "height": 243
        }
      },
      "source": [
        "print(\"Model used : \",MODULE_HANDLE)\n",
        "\n",
        "model = tf.keras.models.Sequential([\n",
        "          \n",
        "          feature_extractor,\n",
        "          tf.keras.layers.Dense(num_classes)\n",
        "])\n",
        "\n",
        "model.summary()"
      ],
      "execution_count": 0,
      "outputs": [
        {
          "output_type": "stream",
          "text": [
            "Model used :  https://tfhub.dev/google/tf2-preview/inception_v3/feature_vector/4\n",
            "Model: \"sequential\"\n",
            "_________________________________________________________________\n",
            "Layer (type)                 Output Shape              Param #   \n",
            "=================================================================\n",
            "keras_layer (KerasLayer)     (None, 2048)              21802784  \n",
            "_________________________________________________________________\n",
            "dense (Dense)                (None, 2)                 4098      \n",
            "=================================================================\n",
            "Total params: 21,806,882\n",
            "Trainable params: 4,098\n",
            "Non-trainable params: 21,802,784\n",
            "_________________________________________________________________\n"
          ],
          "name": "stdout"
        }
      ]
    },
    {
      "cell_type": "code",
      "metadata": {
        "cellView": "both",
        "colab_type": "code",
        "id": "1PzLoQK0Zadv",
        "colab": {}
      },
      "source": [
        "#@title (Optional) Unfreeze some layers\n",
        "NUM_LAYERS = 7 #@param {type:\"slider\", min:1, max:50, step:1}\n",
        "      \n",
        "if do_fine_tuning:\n",
        "  feature_extractor.trainable = True\n",
        "  \n",
        "  for layer in model.layers[-NUM_LAYERS:]:\n",
        "    layer.trainable = True\n",
        "\n",
        "else:\n",
        "  feature_extractor.trainable = False"
      ],
      "execution_count": 0,
      "outputs": []
    },
    {
      "cell_type": "code",
      "metadata": {
        "id": "Ry_ZWHKoEKmJ",
        "colab_type": "code",
        "colab": {}
      },
      "source": [
        "if do_fine_tuning:\n",
        "  model.compile(\n",
        "    optimizer=tf.keras.optimizers.SGD(lr=0.002, momentum=0.9), \n",
        "    loss = tf.keras.losses.SparseCategoricalCrossentropy(from_logits=True),\n",
        "    metrics=['accuracy'])\n",
        "else:\n",
        "  model.compile(\n",
        "    optimizer='adam', \n",
        "    loss = tf.keras.losses.SparseCategoricalCrossentropy(from_logits=True),\n",
        "    metrics=['accuracy'])"
      ],
      "execution_count": 0,
      "outputs": []
    },
    {
      "cell_type": "code",
      "metadata": {
        "id": "PdGDLm_EETFK",
        "colab_type": "code",
        "outputId": "cc0c59ed-31b1-48f7-d144-bd744bae8acb",
        "colab": {
          "base_uri": "https://localhost:8080/",
          "height": 211
        }
      },
      "source": [
        "EPOCHS = 5\n",
        "hist = model.fit(train_batches,\n",
        "                    epochs=EPOCHS,\n",
        "                    validation_data=validation_batches)"
      ],
      "execution_count": 0,
      "outputs": [
        {
          "output_type": "stream",
          "text": [
            "Epoch 1/5\n",
            "146/146 [==============================] - 35s 241ms/step - loss: 0.0982 - accuracy: 0.9729 - val_loss: 0.0329 - val_accuracy: 0.9923\n",
            "Epoch 2/5\n",
            "146/146 [==============================] - 32s 222ms/step - loss: 0.0262 - accuracy: 0.9944 - val_loss: 0.0206 - val_accuracy: 0.9940\n",
            "Epoch 3/5\n",
            "146/146 [==============================] - 33s 223ms/step - loss: 0.0185 - accuracy: 0.9942 - val_loss: 0.0148 - val_accuracy: 0.9974\n",
            "Epoch 4/5\n",
            "146/146 [==============================] - 33s 226ms/step - loss: 0.0141 - accuracy: 0.9959 - val_loss: 0.0117 - val_accuracy: 0.9983\n",
            "Epoch 5/5\n",
            "146/146 [==============================] - 33s 227ms/step - loss: 0.0112 - accuracy: 0.9970 - val_loss: 0.0095 - val_accuracy: 0.9983\n"
          ],
          "name": "stdout"
        }
      ]
    },
    {
      "cell_type": "code",
      "metadata": {
        "id": "SPXaPKMDEVCx",
        "colab_type": "code",
        "outputId": "e52b6d34-8286-4bdc-e0f1-90da2c88b58b",
        "colab": {
          "base_uri": "https://localhost:8080/",
          "height": 176
        }
      },
      "source": [
        "CATS_VS_DOGS_SAVED_MODEL = \"exp_saved_model\"\n",
        "tf.saved_model.save(model,CATS_VS_DOGS_SAVED_MODEL)\n",
        "loaded = tf.saved_model.load(CATS_VS_DOGS_SAVED_MODEL)"
      ],
      "execution_count": 0,
      "outputs": [
        {
          "output_type": "stream",
          "text": [
            "WARNING:tensorflow:From /usr/local/lib/python3.6/dist-packages/tensorflow/python/ops/resource_variable_ops.py:1817: calling BaseResourceVariable.__init__ (from tensorflow.python.ops.resource_variable_ops) with constraint is deprecated and will be removed in a future version.\n",
            "Instructions for updating:\n",
            "If using Keras pass *_constraint arguments to layers.\n"
          ],
          "name": "stdout"
        },
        {
          "output_type": "stream",
          "text": [
            "WARNING:tensorflow:From /usr/local/lib/python3.6/dist-packages/tensorflow/python/ops/resource_variable_ops.py:1817: calling BaseResourceVariable.__init__ (from tensorflow.python.ops.resource_variable_ops) with constraint is deprecated and will be removed in a future version.\n",
            "Instructions for updating:\n",
            "If using Keras pass *_constraint arguments to layers.\n"
          ],
          "name": "stderr"
        },
        {
          "output_type": "stream",
          "text": [
            "INFO:tensorflow:Assets written to: exp_saved_model/assets\n"
          ],
          "name": "stdout"
        },
        {
          "output_type": "stream",
          "text": [
            "INFO:tensorflow:Assets written to: exp_saved_model/assets\n"
          ],
          "name": "stderr"
        }
      ]
    },
    {
      "cell_type": "code",
      "metadata": {
        "id": "0x1BkVgcF8wX",
        "colab_type": "code",
        "colab": {}
      },
      "source": [
        "#USING TFLITE CONVERTER"
      ],
      "execution_count": 0,
      "outputs": []
    },
    {
      "cell_type": "code",
      "metadata": {
        "id": "imzAl6zqGDWG",
        "colab_type": "code",
        "colab": {}
      },
      "source": [
        "converter = tf.lite.TFLiteConverter.from_saved_model(CATS_VS_DOGS_SAVED_MODEL)"
      ],
      "execution_count": 0,
      "outputs": []
    },
    {
      "cell_type": "code",
      "metadata": {
        "id": "e6oWVzOjGKAR",
        "colab_type": "code",
        "colab": {}
      },
      "source": [
        "#Quantization\n",
        "#Using default mode so that every value converts to int for faster calculations\n",
        "\n",
        "# converter.optimizations = [tf.lite.Optimize.OPTIMIZE_FOR_SIZE]"
      ],
      "execution_count": 0,
      "outputs": []
    },
    {
      "cell_type": "code",
      "metadata": {
        "id": "oiCf7UJ-Gb98",
        "colab_type": "code",
        "colab": {}
      },
      "source": [
        "#Representative datasets to transform the weights\n",
        "# def representative_data_gen():\n",
        "#   for input_value, _ in test_batches.take(100):\n",
        "#     yield [input_value]"
      ],
      "execution_count": 0,
      "outputs": []
    },
    {
      "cell_type": "code",
      "metadata": {
        "id": "KUOhKbBPGrIp",
        "colab_type": "code",
        "colab": {}
      },
      "source": [
        "# converter.representative_dataset = representative_data_gen"
      ],
      "execution_count": 0,
      "outputs": []
    },
    {
      "cell_type": "code",
      "metadata": {
        "id": "uGCiD9LWGupr",
        "colab_type": "code",
        "colab": {}
      },
      "source": [
        "# The above implementation will compute calculations in integers while those which cannot be\n",
        "# made int are carried out as floats. Also the input and output will be floating values for convinience"
      ],
      "execution_count": 0,
      "outputs": []
    },
    {
      "cell_type": "code",
      "metadata": {
        "id": "YnCxfIjXHQ0o",
        "colab_type": "code",
        "colab": {}
      },
      "source": [
        "#To get strict int operations and outputs\n",
        "# converter.target_spec.supported_ops = [tf.lite.OpsSet.TFLITE_BUILTINS_INT8]"
      ],
      "execution_count": 0,
      "outputs": []
    },
    {
      "cell_type": "code",
      "metadata": {
        "id": "oiTexlYYHfEG",
        "colab_type": "code",
        "colab": {}
      },
      "source": [
        "#Finally converting the model\n",
        "tflite_model = converter.convert()\n",
        "tflite_model_file = 'converted_model.tflite'\n",
        "\n",
        "with open(tflite_model_file, \"wb\") as f:\n",
        "  f.write(tflite_model)"
      ],
      "execution_count": 0,
      "outputs": []
    },
    {
      "cell_type": "code",
      "metadata": {
        "id": "fMg5XihwI1Qm",
        "colab_type": "code",
        "colab": {}
      },
      "source": [
        "# Load TFLite model and allocate tensors.\n",
        "  \n",
        "interpreter = tf.lite.Interpreter(model_path=tflite_model_file)\n",
        "interpreter.allocate_tensors()\n",
        "\n",
        "input_index = interpreter.get_input_details()[0][\"index\"]\n",
        "output_index = interpreter.get_output_details()[0][\"index\"]"
      ],
      "execution_count": 0,
      "outputs": []
    },
    {
      "cell_type": "code",
      "metadata": {
        "id": "QJSESrGUNdbq",
        "colab_type": "code",
        "colab": {
          "base_uri": "https://localhost:8080/",
          "height": 34
        },
        "outputId": "bee5f9b5-bb87-4466-a2ea-7e62403fb16c"
      },
      "source": [
        "from tqdm import tqdm\n",
        "\n",
        "# Gather results for the randomly sampled test images\n",
        "predictions = []\n",
        "\n",
        "test_labels, test_imgs = [], []\n",
        "for img, label in tqdm(test_batches.take(10)):\n",
        "  interpreter.set_tensor(input_index, img)\n",
        "  interpreter.invoke()\n",
        "  predictions.append(interpreter.get_tensor(output_index))\n",
        "  \n",
        "  test_labels.append(label.numpy()[0])\n",
        "  test_imgs.append(img)"
      ],
      "execution_count": 63,
      "outputs": [
        {
          "output_type": "stream",
          "text": [
            "10it [00:02,  4.29it/s]\n"
          ],
          "name": "stderr"
        }
      ]
    },
    {
      "cell_type": "code",
      "metadata": {
        "id": "8qfAHePWNfim",
        "colab_type": "code",
        "colab": {}
      },
      "source": [
        "!mkdir -p test_images"
      ],
      "execution_count": 0,
      "outputs": []
    },
    {
      "cell_type": "code",
      "metadata": {
        "id": "lzJ2HDI8NmUP",
        "colab_type": "code",
        "colab": {}
      },
      "source": [
        "class_names=['cat','dog']\n",
        "from PIL import Image\n",
        "\n",
        "for index, (image, label) in enumerate(test_batches.take(50)):\n",
        "  image = tf.cast(image * 255.0, tf.uint8)\n",
        "  image = tf.squeeze(image).numpy()\n",
        "  pil_image = Image.fromarray(image)\n",
        "  pil_image.save('test_images/{}_{}.jpg'.format(class_names[label[0]], index))"
      ],
      "execution_count": 0,
      "outputs": []
    },
    {
      "cell_type": "code",
      "metadata": {
        "id": "f0gjkeiWNoOj",
        "colab_type": "code",
        "colab": {
          "base_uri": "https://localhost:8080/",
          "height": 173
        },
        "outputId": "62f31a80-3559-4fac-e86b-6e344cf4b3fe"
      },
      "source": [
        "!ls test_images"
      ],
      "execution_count": 67,
      "outputs": [
        {
          "output_type": "stream",
          "text": [
            "cat_0.jpg   cat_21.jpg\tcat_32.jpg  cat_45.jpg\tdog_13.jpg  dog_41.jpg\n",
            "cat_11.jpg  cat_22.jpg\tcat_34.jpg  cat_46.jpg\tdog_17.jpg  dog_44.jpg\n",
            "cat_12.jpg  cat_23.jpg\tcat_35.jpg  cat_47.jpg\tdog_1.jpg   dog_48.jpg\n",
            "cat_14.jpg  cat_24.jpg\tcat_36.jpg  cat_4.jpg\tdog_27.jpg  dog_49.jpg\n",
            "cat_15.jpg  cat_25.jpg\tcat_39.jpg  cat_5.jpg\tdog_29.jpg  dog_6.jpg\n",
            "cat_16.jpg  cat_26.jpg\tcat_3.jpg   cat_7.jpg\tdog_2.jpg\n",
            "cat_18.jpg  cat_28.jpg\tcat_40.jpg  cat_8.jpg\tdog_33.jpg\n",
            "cat_19.jpg  cat_30.jpg\tcat_42.jpg  cat_9.jpg\tdog_37.jpg\n",
            "cat_20.jpg  cat_31.jpg\tcat_43.jpg  dog_10.jpg\tdog_38.jpg\n"
          ],
          "name": "stdout"
        }
      ]
    },
    {
      "cell_type": "code",
      "metadata": {
        "id": "CZaC8SD5PTY6",
        "colab_type": "code",
        "colab": {}
      },
      "source": [
        "!zip -qq cats_vs_dogs_test_images.zip -r test_images/"
      ],
      "execution_count": 0,
      "outputs": []
    },
    {
      "cell_type": "code",
      "metadata": {
        "id": "zWWpIyHbPXBA",
        "colab_type": "code",
        "colab": {}
      },
      "source": [
        "try:\n",
        "  files.download('cats_vs_dogs_test_images.zip')\n",
        "except:\n",
        "  pass"
      ],
      "execution_count": 0,
      "outputs": []
    },
    {
      "cell_type": "code",
      "metadata": {
        "id": "9qSvSbjKPYs2",
        "colab_type": "code",
        "colab": {}
      },
      "source": [
        ""
      ],
      "execution_count": 0,
      "outputs": []
    }
  ]
}